{
 "cells": [
  {
   "cell_type": "markdown",
   "metadata": {},
   "source": [
    "# Statistical Data Analysis"
   ]
  },
  {
   "cell_type": "markdown",
   "metadata": {},
   "source": [
    "## Project 1"
   ]
  },
  {
   "cell_type": "markdown",
   "metadata": {},
   "source": [
    "Author: Zach Eckert"
   ]
  },
  {
   "cell_type": "markdown",
   "metadata": {},
   "source": [
    "### Part 2"
   ]
  },
  {
   "cell_type": "markdown",
   "metadata": {},
   "source": [
    "The following code is used to read the data from the text file"
   ]
  },
  {
   "cell_type": "code",
   "execution_count": 1,
   "metadata": {},
   "outputs": [],
   "source": [
    "data = read.table(\"StatVillage.txt\",sep=\"\\t\",header=TRUE)"
   ]
  },
  {
   "cell_type": "markdown",
   "metadata": {},
   "source": [
    "#### 1.1 **Use the random seed that you used in Part 1 to randomly collect 20 samples of size 25 with replacement from the population of all households and compute the mean of the variable TOTINCH for each sample. List the sample means for your first 5 samples.**"
   ]
  },
  {
   "cell_type": "code",
   "execution_count": 2,
   "metadata": {},
   "outputs": [],
   "source": [
    "mySeed = 967344\n",
    "x = data$TOTINCH"
   ]
  },
  {
   "cell_type": "code",
   "execution_count": 3,
   "metadata": {},
   "outputs": [
    {
     "name": "stdout",
     "output_type": "stream",
     "text": [
      "[1] 45398.92 59855.88 60591.28 48437.68 78246.36\n"
     ]
    }
   ],
   "source": [
    "vector.of.sample.means=rep(0,20)\n",
    "set.seed(mySeed)\n",
    "for (j in 1:20){\n",
    "i=sample(1:1024,25,replace=TRUE)\n",
    "this.sample=x[i]\n",
    "vector.of.sample.means[j]=mean(this.sample)\n",
    "}\n",
    "print(vector.of.sample.means[1:5])"
   ]
  },
  {
   "cell_type": "markdown",
   "metadata": {},
   "source": [
    "The sample means for my first 5 samples are \\\\$45,498.92, \\\\$59,855.88, \\\\$60,591.28, \\\\$48,437.68, and \\\\$78,246.36"
   ]
  },
  {
   "cell_type": "markdown",
   "metadata": {},
   "source": [
    "#### 1.2 **Compute the mean and standard deviation of your 23 sample means.**"
   ]
  },
  {
   "cell_type": "code",
   "execution_count": 4,
   "metadata": {},
   "outputs": [
    {
     "name": "stdout",
     "output_type": "stream",
     "text": [
      "[1] 57464.35\n",
      "[1] 7979.93\n"
     ]
    }
   ],
   "source": [
    "mean.of.sample.means = mean(vector.of.sample.means)\n",
    "sd.of.sample.means = sd(vector.of.sample.means)\n",
    "\n",
    "print(mean.of.sample.means)\n",
    "print(sd.of.sample.means)"
   ]
  },
  {
   "cell_type": "markdown",
   "metadata": {},
   "source": [
    "The mean of my 20 sample means is \\\\$57,464.35, with a standard deviation of \\\\$7,979.93."
   ]
  },
  {
   "cell_type": "markdown",
   "metadata": {},
   "source": [
    "#### 1.3 **What is the true mean and standard deviation of the distribution of the sample mean? Compare this with your answers to (3).**"
   ]
  },
  {
   "cell_type": "markdown",
   "metadata": {},
   "source": [
    "The true mean of the distribution of the sample mean is equal to the mean of the total population. The true standard deviation of the distribution of the sample mean is equal to the standard deviation of the total population divided by the square root of the sample size, or $$\\sigma_x = \\frac{\\sigma}{\\sqrt{n}}$$"
   ]
  },
  {
   "cell_type": "code",
   "execution_count": 8,
   "metadata": {},
   "outputs": [
    {
     "name": "stdout",
     "output_type": "stream",
     "text": [
      "[1] 56762.06\n",
      "[1] 8475.501\n"
     ]
    }
   ],
   "source": [
    "true.mean = mean(x)\n",
    "true.sd = sd(x)/sqrt(20)\n",
    "\n",
    "print(true.mean)\n",
    "print(true.sd)"
   ]
  },
  {
   "cell_type": "markdown",
   "metadata": {},
   "source": [
    "The true mean of the distrubution of the sample mean is \\\\$56,762.06 with a standard deviation of \\\\$8,475.50."
   ]
  },
  {
   "cell_type": "code",
   "execution_count": 9,
   "metadata": {},
   "outputs": [
    {
     "name": "stdout",
     "output_type": "stream",
     "text": [
      "[1] 702.2943\n",
      "[1] 495.5708\n"
     ]
    }
   ],
   "source": [
    "mean.diff = abs(true.mean - mean.of.sample.means)\n",
    "sd.diff = abs(true.sd - sd.of.sample.means)\n",
    "\n",
    "print(mean.diff)\n",
    "print(sd.diff)"
   ]
  },
  {
   "cell_type": "markdown",
   "metadata": {},
   "source": [
    "The mean of my 20 sample means differs from the true mean by \\\\$702.29, and the standard deviation differs by \\\\$495.57"
   ]
  },
  {
   "cell_type": "markdown",
   "metadata": {},
   "source": [
    "#### 1.4 **Create a histogram for the variable TOTINCH using all of the values from the population. Also, create a histogram for your vector of sample means using the same bins as you used for the population histogram. Compare the two histogram and comment on the shape of the distribution of the sample mean for the variable TOTINCH.**"
   ]
  },
  {
   "cell_type": "code",
   "execution_count": null,
   "metadata": {},
   "outputs": [],
   "source": []
  }
 ],
 "metadata": {
  "kernelspec": {
   "display_name": "R",
   "language": "R",
   "name": "ir"
  },
  "language_info": {
   "codemirror_mode": "r",
   "file_extension": ".r",
   "mimetype": "text/x-r-source",
   "name": "R",
   "pygments_lexer": "r",
   "version": "3.6.1"
  }
 },
 "nbformat": 4,
 "nbformat_minor": 4
}
