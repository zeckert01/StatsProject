{
 "cells": [
  {
   "cell_type": "markdown",
   "metadata": {},
   "source": [
    "# Statistical Data Analysis"
   ]
  },
  {
   "cell_type": "markdown",
   "metadata": {},
   "source": [
    "## Project 1"
   ]
  },
  {
   "cell_type": "markdown",
   "metadata": {},
   "source": [
    "Author: Zach Eckert"
   ]
  },
  {
   "cell_type": "markdown",
   "metadata": {},
   "source": [
    "### Part 2"
   ]
  },
  {
   "cell_type": "markdown",
   "metadata": {},
   "source": [
    "The following code is used to read the data from the text file"
   ]
  },
  {
   "cell_type": "code",
   "execution_count": 1,
   "metadata": {},
   "outputs": [],
   "source": [
    "data = read.table(\"StatVillage.txt\",sep=\"\\t\",header=TRUE)"
   ]
  },
  {
   "cell_type": "markdown",
   "metadata": {},
   "source": [
    "#### 1. **The purpose of this problem is to give insight to some of the formulas and concepts related to the distribution of the sample mean in Chapter 5. We will use the variable TOTINCH.**"
   ]
  },
  {
   "cell_type": "markdown",
   "metadata": {},
   "source": [
    "##### 1.1 **Use the random seed that you used in Part 1 to randomly collect 20 samples of size 25 with replacement from the population of all households and compute the mean of the variable TOTINCH for each sample. List the sample means for your first 5 samples.**"
   ]
  },
  {
   "cell_type": "code",
   "execution_count": 2,
   "metadata": {},
   "outputs": [],
   "source": [
    "mySeed = 967344\n",
    "x = data$TOTINCH"
   ]
  },
  {
   "cell_type": "code",
   "execution_count": 3,
   "metadata": {},
   "outputs": [
    {
     "name": "stdout",
     "output_type": "stream",
     "text": [
      "[1] 45398.92 59855.88 60591.28 48437.68 78246.36\n"
     ]
    }
   ],
   "source": [
    "vector.of.sample.means=rep(0,20)\n",
    "set.seed(mySeed)\n",
    "for (j in 1:20){\n",
    "i=sample(1:1024,25,replace=TRUE)\n",
    "this.sample=x[i]\n",
    "vector.of.sample.means[j]=mean(this.sample)\n",
    "}\n",
    "print(vector.of.sample.means[1:5])"
   ]
  },
  {
   "cell_type": "markdown",
   "metadata": {},
   "source": [
    "The sample means for my first 5 samples are \\\\$45,498.92, \\\\$59,855.88, \\\\$60,591.28, \\\\$48,437.68, and \\\\$78,246.36"
   ]
  },
  {
   "cell_type": "markdown",
   "metadata": {},
   "source": [
    "##### 1.2 **Compute the mean and standard deviation of your 23 sample means.**"
   ]
  },
  {
   "cell_type": "code",
   "execution_count": 4,
   "metadata": {},
   "outputs": [
    {
     "name": "stdout",
     "output_type": "stream",
     "text": [
      "[1] 57464.35\n",
      "[1] 7979.93\n"
     ]
    }
   ],
   "source": [
    "mean.of.sample.means = mean(vector.of.sample.means)\n",
    "sd.of.sample.means = sd(vector.of.sample.means)\n",
    "\n",
    "print(mean.of.sample.means)\n",
    "print(sd.of.sample.means)"
   ]
  },
  {
   "cell_type": "markdown",
   "metadata": {},
   "source": [
    "The mean of my 20 sample means is \\\\$57,464.35, with a standard deviation of \\\\$7,979.93."
   ]
  },
  {
   "cell_type": "markdown",
   "metadata": {},
   "source": [
    "##### 1.3 **What is the true mean and standard deviation of the distribution of the sample mean? Compare this with your answers to (3).**"
   ]
  },
  {
   "cell_type": "markdown",
   "metadata": {},
   "source": [
    "The true mean of the distribution of the sample mean is equal to the mean of the total population. The true standard deviation of the distribution of the sample mean is equal to the standard deviation of the total population divided by the square root of the sample size, or $$\\sigma_x = \\frac{\\sigma}{\\sqrt{n}}$$"
   ]
  },
  {
   "cell_type": "code",
   "execution_count": 5,
   "metadata": {},
   "outputs": [
    {
     "name": "stdout",
     "output_type": "stream",
     "text": [
      "[1] 56762.06\n",
      "[1] 8475.501\n"
     ]
    }
   ],
   "source": [
    "true.mean = mean(x)\n",
    "true.sd = sd(x)/sqrt(20)\n",
    "\n",
    "print(true.mean)\n",
    "print(true.sd)"
   ]
  },
  {
   "cell_type": "markdown",
   "metadata": {},
   "source": [
    "The true mean of the distrubution of the sample mean is \\\\$56,762.06 with a standard deviation of \\\\$8,475.50."
   ]
  },
  {
   "cell_type": "code",
   "execution_count": 6,
   "metadata": {},
   "outputs": [
    {
     "name": "stdout",
     "output_type": "stream",
     "text": [
      "[1] 702.2943\n",
      "[1] 495.5708\n"
     ]
    }
   ],
   "source": [
    "mean.diff = abs(true.mean - mean.of.sample.means)\n",
    "sd.diff = abs(true.sd - sd.of.sample.means)\n",
    "\n",
    "print(mean.diff)\n",
    "print(sd.diff)"
   ]
  },
  {
   "cell_type": "markdown",
   "metadata": {},
   "source": [
    "The mean of my 20 sample means differs from the true mean by \\\\$702.29, and the standard deviation differs by \\\\$495.57"
   ]
  },
  {
   "cell_type": "markdown",
   "metadata": {},
   "source": [
    "##### 1.4 **Create a histogram for the variable TOTINCH using all of the values from the population. Also, create a histogram for your vector of sample means using the same bins as you used for the population histogram. Compare the two histogram and comment on the shape of the distribution of the sample mean for the variable TOTINCH.**"
   ]
  },
  {
   "cell_type": "code",
   "execution_count": 23,
   "metadata": {},
   "outputs": [
    {
     "data": {
      "text/html": [
       "306000"
      ],
      "text/latex": [
       "306000"
      ],
      "text/markdown": [
       "306000"
      ],
      "text/plain": [
       "[1] 306000"
      ]
     },
     "metadata": {},
     "output_type": "display_data"
    }
   ],
   "source": [
    "max(totinch)"
   ]
  },
  {
   "cell_type": "code",
   "execution_count": 27,
   "metadata": {},
   "outputs": [
    {
     "data": {
      "image/png": "[encoded data removed]",
      "text/plain": [
       "Plot with title \"Total Household Income - Population\""
      ]
     },
     "metadata": {},
     "output_type": "display_data"
    },
    {
     "data": {
      "image/png": "[encoded data removed]",
      "text/plain": [
       "Plot with title \"Total Household Income - Sample Means\""
      ]
     },
     "metadata": {},
     "output_type": "display_data"
    }
   ],
   "source": [
    "totinch = data$TOTINCH\n",
    "bins1 = c(-10000,0,10000,20000,30000,40000,50000,60000,70000,80000,90000,100000,110000,120000,130000,140000,150000,160000,170000,180000,190000,200000,210000,220000,230000,240000,250000,260000,270000,280000,290000,300000,310000)\n",
    "bins2 = c(-10000,-5000,0,5000,10000,15000,20000,25000,30000,35000,40000,45000,50000,55000,60000,65000,70000,75000,80000,85000,90000,95000,100000,105000,110000,115000,120000,125000,130000,135000,140000,145000,150000,155000,160000,165000,170000,175000,180000,185000,190000,195000,200000,205000,210000,215000,220000,225000,230000,235000,240000,245000,250000,255000,260000,265000,270000,275000,280000,285000,290000,295000,300000,305000,310000)\n",
    "hist(totinch,breaks=bins2,main=\"Total Household Income - Population\",xlab=\"Household Income\")\n",
    "\n",
    "hist(vector.of.sample.means,breaks=bins2,main=\"Total Household Income - Sample Means\",xlab=\"Household Income\")"
   ]
  },
  {
   "cell_type": "markdown",
   "metadata": {},
   "source": [
    "Using a bin size of \\\\$5000, we can see that the both the population and the sample means have a similar distrubution. They both appear to be skewed to the right. The sample means do appear to be much more normal than the total population, however, even if not perfectly so."
   ]
  },
  {
   "cell_type": "markdown",
   "metadata": {},
   "source": [
    "##### 1.5 **What happens to the distribution of the sample mean if you increase the number of samples? What happens to the distribution of the sample mean if you increase the sample size for each sample? Illustrate your answers by examples, for instance, 200,000 samples of size 25.**"
   ]
  },
  {
   "cell_type": "markdown",
   "metadata": {},
   "source": [
    "The distribution of the sample mean will approach a normal distribution as you increase either the number of samples or the sample size. To illustrate this, first let's increase the number of samples to 200,000, leaving the sample size at 25."
   ]
  },
  {
   "cell_type": "code",
   "execution_count": 28,
   "metadata": {},
   "outputs": [
    {
     "data": {
      "image/png": "[encoded data removed]",
      "text/plain": [
       "Plot with title \"Total Household Income - Sample Means - 200,000 Samples of Size 25\""
      ]
     },
     "metadata": {},
     "output_type": "display_data"
    }
   ],
   "source": [
    "vector.of.sample.means.num.samples=rep(0,200000)\n",
    "for (j in 1:2000000){\n",
    "i=sample(1:1024,25,replace=TRUE)\n",
    "this.sample=x[i]\n",
    "vector.of.sample.means.num.samples[j]=mean(this.sample)\n",
    "}\n",
    "hist(vector.of.sample.means.num.samples,breaks=bins2,main=\"Total Household Income - Sample Means - 200,000 Samples of Size 25\",xlab=\"Household Income\")"
   ]
  },
  {
   "cell_type": "markdown",
   "metadata": {},
   "source": [
    "As we can see, this distribution appears to be nearly Normal. Next, we will use 20 samples with a sample size of 500."
   ]
  },
  {
   "cell_type": "code",
   "execution_count": 29,
   "metadata": {},
   "outputs": [
    {
     "data": {
      "image/png": "[encoded data removed]",
      "text/plain": [
       "Plot with title \"Total Household Income - Sample Means - 20 Samples of Size 500\""
      ]
     },
     "metadata": {},
     "output_type": "display_data"
    }
   ],
   "source": [
    "vector.of.sample.means.sample.size=rep(0,20)\n",
    "for (j in 1:20){\n",
    "i=sample(1:1024,500,replace=TRUE)\n",
    "this.sample=x[i]\n",
    "vector.of.sample.means.sample.size[j]=mean(this.sample)\n",
    "}\n",
    "hist(vector.of.sample.means.sample.size,breaks=bins2,main=\"Total Household Income - Sample Means - 20 Samples of Size 500\",xlab=\"Household Income\")"
   ]
  },
  {
   "cell_type": "markdown",
   "metadata": {},
   "source": [
    "When using the same bin sizes as before, this histogram is difficult to interpret. However, the distribution is more normal than before, with a mean much closer to the mean of the original population and a very small standard deviation. The small standard deviation is due to the sample size term in the denominator of the standard deviation formula.\n",
    "\n",
    "We can combine these two effects to magnify the change in the distribution. This can be illustrated by using 200,000 samples with a sample size of 500."
   ]
  },
  {
   "cell_type": "code",
   "execution_count": 31,
   "metadata": {},
   "outputs": [
    {
     "data": {
      "image/png": "[encoded data removed]",
      "text/plain": [
       "Plot with title \"Total Household Income - Sample Means - 200,000 Samples of Size 500\""
      ]
     },
     "metadata": {},
     "output_type": "display_data"
    }
   ],
   "source": [
    "vector.of.sample.means.both=rep(0,200000)\n",
    "for (j in 1:2000000){\n",
    "i=sample(1:1024,500,replace=TRUE)\n",
    "this.sample=x[i]\n",
    "vector.of.sample.means.both[j]=mean(this.sample)\n",
    "}\n",
    "hist(vector.of.sample.means.both,breaks=bins2,main=\"Total Household Income - Sample Means - 200,000 Samples of Size 500\",xlab=\"Household Income\")"
   ]
  },
  {
   "cell_type": "markdown",
   "metadata": {},
   "source": [
    "#### 2. **Suppose that we can't observe the entire population, but only a small sample of households. Use the random seed that you used in Part 1 to independently collect a pair of simple random samples of households from the Northern (blocks 1-64) and Southern (blocks 65-128) halves of the village using the following commands in R. Use a sample size of 15 for the Northern half and 20 for the Southern half.**"
   ]
  },
  {
   "cell_type": "code",
   "execution_count": 32,
   "metadata": {},
   "outputs": [],
   "source": [
    "set.seed(mySeed)\n",
    "iN = sample(1:512,15)\n",
    "iS = sample(513:1024,20)\n",
    "\n",
    "sampleGovtPayments.N = data$GOVINCH[iN]\n",
    "sampleGovtPayments.S = data$GOVINCH[iS]"
   ]
  },
  {
   "cell_type": "markdown",
   "metadata": {},
   "source": [
    "##### 2.1 **Is there strong evidence based on the observed samples to support the claim that the mean household government transfer payments is larger in the Southern half of StatVillage than it is in the Northern half? Perform an appropriate significance test based on Satterthwaite's approximation (without assuming equality of population standard deviations) at level α = .01 to support your answer. Make sure to state your hypotheses, test statistic, the corresponding P-value or critical value, and your conclusion.**"
   ]
  },
  {
   "cell_type": "markdown",
   "metadata": {},
   "source": [
    "#### 3. **Suppose we can't observe the entire population, but only a small sample of households. Use the random seed that you used in Part 1 to collect a simple random sample of 50 households from the village using the following commands in R. (For this part of the problem, please do reset the seed of the random number generator.) Suppose we want to make an inference about the proportion of households which include children under the age of 18.**"
   ]
  },
  {
   "cell_type": "code",
   "execution_count": 36,
   "metadata": {},
   "outputs": [
    {
     "data": {
      "text/html": [
       "18"
      ],
      "text/latex": [
       "18"
      ],
      "text/markdown": [
       "18"
      ],
      "text/plain": [
       "[1] 18"
      ]
     },
     "metadata": {},
     "output_type": "display_data"
    }
   ],
   "source": [
    "set.seed(mySeed)\n",
    "i=sample(1:1024,50)\n",
    "children = data$HHPERA + data$HHPERB1 + data$HHPERB2\n",
    "sampleChildren = children[i]\n",
    "numWithOver18 = sum(sampleChildren>0)\n",
    "numWithOver18"
   ]
  },
  {
   "cell_type": "markdown",
   "metadata": {},
   "source": [
    "##### 3.1 **Use your sample of size 50 to compute a (two-sided) 95% confidence interval for the proportion of households in StatVillage with at least one child under the age of 18.**"
   ]
  },
  {
   "cell_type": "code",
   "execution_count": 41,
   "metadata": {},
   "outputs": [
    {
     "data": {
      "text/html": [
       "0.36"
      ],
      "text/latex": [
       "0.36"
      ],
      "text/markdown": [
       "0.36"
      ],
      "text/plain": [
       "[1] 0.36"
      ]
     },
     "metadata": {},
     "output_type": "display_data"
    },
    {
     "data": {
      "text/html": [
       "0.111656366752961"
      ],
      "text/latex": [
       "0.111656366752961"
      ],
      "text/markdown": [
       "0.111656366752961"
      ],
      "text/plain": [
       "[1] 0.1116564"
      ]
     },
     "metadata": {},
     "output_type": "display_data"
    }
   ],
   "source": [
    "p.hat = numWithOver18/50\n",
    "margin.of.error = qnorm(0.95)*sqrt(p.hat*(1-p.hat)/50)\n",
    "p.hat;margin.of.error"
   ]
  },
  {
   "cell_type": "code",
   "execution_count": 42,
   "metadata": {},
   "outputs": [
    {
     "data": {
      "text/html": [
       "<ol class=list-inline>\n",
       "\t<li>0.248343633247039</li>\n",
       "\t<li>0.471656366752961</li>\n",
       "</ol>\n"
      ],
      "text/latex": [
       "\\begin{enumerate*}\n",
       "\\item 0.248343633247039\n",
       "\\item 0.471656366752961\n",
       "\\end{enumerate*}\n"
      ],
      "text/markdown": [
       "1. 0.248343633247039\n",
       "2. 0.471656366752961\n",
       "\n",
       "\n"
      ],
      "text/plain": [
       "[1] 0.2483436 0.4716564"
      ]
     },
     "metadata": {},
     "output_type": "display_data"
    }
   ],
   "source": [
    "p.hat + c(-1,1)*margin.of.error"
   ]
  },
  {
   "cell_type": "markdown",
   "metadata": {},
   "source": [
    "Because this type of trial is binomial in nature, the margin of error can be calculated with\n",
    "$$m = z^* \\sqrt{\\frac{p(1-p)}{n}}$$\n",
    "Using the proportion from my sample of size 50 as p, we get the margin of error to be 0.11166, which gives us a 95% confidence interval of (0.24834, 0.47166)"
   ]
  },
  {
   "cell_type": "markdown",
   "metadata": {},
   "source": [
    "##### 3.2 **The true (assumed to be unknown) number of households in StatVillage with at least one child under the age of 18 can be computed. Did your confidence interval in (1) include this value? If you repeated (1) many times with different samples (changing the seed) each time, what would happen? Justify your answers carefully.**"
   ]
  },
  {
   "cell_type": "code",
   "execution_count": 43,
   "metadata": {},
   "outputs": [
    {
     "data": {
      "text/html": [
       "0.3994140625"
      ],
      "text/latex": [
       "0.3994140625"
      ],
      "text/markdown": [
       "0.3994140625"
      ],
      "text/plain": [
       "[1] 0.3994141"
      ]
     },
     "metadata": {},
     "output_type": "display_data"
    }
   ],
   "source": [
    "sum(children>0)/1024"
   ]
  },
  {
   "cell_type": "markdown",
   "metadata": {},
   "source": [
    "The true proportion of households with at least one child under the age of 18 is 0.39941. My 95% confidence interval computed in 3.1 did include this value. If 3.1 were to be repeated many times with different samples each time, we should expect the 95% confidence interval for each sample to include the true proportion approximately 95% of the time."
   ]
  }
 ],
 "metadata": {
  "kernelspec": {
   "display_name": "R",
   "language": "R",
   "name": "ir"
  },
  "language_info": {
   "codemirror_mode": "r",
   "file_extension": ".r",
   "mimetype": "text/x-r-source",
   "name": "R",
   "pygments_lexer": "r",
   "version": "3.6.1"
  }
 },
 "nbformat": 4,
 "nbformat_minor": 4
}
