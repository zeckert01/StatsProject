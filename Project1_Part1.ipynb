{
 "cells": [
  {
   "cell_type": "markdown",
   "metadata": {},
   "source": [
    "# Statistical Data Analysis"
   ]
  },
  {
   "cell_type": "markdown",
   "metadata": {},
   "source": [
    "## Project 1"
   ]
  },
  {
   "cell_type": "markdown",
   "metadata": {},
   "source": [
    "### Part 1"
   ]
  },
  {
   "cell_type": "code",
   "execution_count": 1,
   "metadata": {},
   "outputs": [],
   "source": [
    "data = read.table(\"StatVillage.txt\",sep=\"\\t\",header=TRUE)"
   ]
  },
  {
   "cell_type": "markdown",
   "metadata": {},
   "source": [
    "1. **Make an appropriate graph for the variable DTYPEH. Is it appropriate to compute the mean and standard deviation to summarize this population data? If so, compute and interpret these quantities; if not, explain why not.**"
   ]
  },
  {
   "cell_type": "markdown",
   "metadata": {},
   "source": [
    "The variable DTYPEH is a categorical variable, therefore the appropriate graph for this variable is a bar chart. Because the values associated with this variable are only labels, computing their mean and standard deviation would have no meaningful interpretation."
   ]
  },
  {
   "cell_type": "code",
   "execution_count": 16,
   "metadata": {},
   "outputs": [
    {
     "data": {
      "image/png": "[encoded data removed]",
      "text/plain": [
       "Plot with title \"Bar Chart for DTYPEH\""
      ]
     },
     "metadata": {},
     "output_type": "display_data"
    }
   ],
   "source": [
    "counts <- table(data$DTYPEH)\n",
    "\n",
    "barplot(counts,main=\"Bar Chart for DTYPEH\",xlab=\"Structural Type of Dwelling\",ylab='Counts')\n",
    "legend(3,600,c(\"1. Single-detached house\",\n",
    "               \"2. Apartment in build. 5+ storyes\",\n",
    "               \"3. Apartment in build. <5 storeys\" ,\n",
    "               \"4. Semi-detached house\",\n",
    "               \"5. Apartment in a detached duplex\",\n",
    "               \"6. Row house\",\n",
    "               \"7. Other single-attached house\",\n",
    "               \"8. Mobile home or other movable\"),cex=0.7,text.width=3)"
   ]
  },
  {
   "cell_type": "markdown",
   "metadata": {},
   "source": [
    "2. **Make an appropriate graph for the variable HMAGE. Is it appropriate to compute the mean and standard deviation to summarize this population data? If so, compute and interpret these quantities; if not, explain why not.**"
   ]
  },
  {
   "cell_type": "markdown",
   "metadata": {},
   "source": [
    "The variable HMAGE corresponds to the age of the primary household maintainer. Because age is a numerical value, the appropriate graph for this variable would be a histogram."
   ]
  },
  {
   "cell_type": "code",
   "execution_count": 18,
   "metadata": {},
   "outputs": [
    {
     "data": {
      "text/plain": [
       "\n",
       "  1   2   3   4   5   6   7   8 \n",
       " 34 206 270 187 143 120  31  33 "
      ]
     },
     "metadata": {},
     "output_type": "display_data"
    }
   ],
   "source": [
    "hCounts <- table(data$HMAGE)\n",
    "hCounts"
   ]
  },
  {
   "cell_type": "code",
   "execution_count": null,
   "metadata": {},
   "outputs": [],
   "source": []
  }
 ],
 "metadata": {
  "kernelspec": {
   "display_name": "R",
   "language": "R",
   "name": "ir"
  },
  "language_info": {
   "codemirror_mode": "r",
   "file_extension": ".r",
   "mimetype": "text/x-r-source",
   "name": "R",
   "pygments_lexer": "r",
   "version": "3.6.1"
  }
 },
 "nbformat": 4,
 "nbformat_minor": 4
}
